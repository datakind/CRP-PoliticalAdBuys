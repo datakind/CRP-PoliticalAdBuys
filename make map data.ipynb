{
 "cells": [
  {
   "cell_type": "code",
   "execution_count": 181,
   "metadata": {},
   "outputs": [],
   "source": [
    "import json\n",
    "import numpy as np\n",
    "import pandas as pd"
   ]
  },
  {
   "cell_type": "code",
   "execution_count": 216,
   "metadata": {},
   "outputs": [
    {
     "name": "stderr",
     "output_type": "stream",
     "text": [
      "/home/kilian/.envs/bittrex/lib/python3.6/site-packages/IPython/core/interactiveshell.py:2728: DtypeWarning: Columns (1) have mixed types. Specify dtype option on import or set low_memory=False.\n",
      "  interactivity=interactivity, compiler=compiler, result=result)\n"
     ]
    }
   ],
   "source": [
    "# load the data\n",
    "df = pd.read_csv(\"station_zip.csv\", index_col=None)"
   ]
  },
  {
   "cell_type": "code",
   "execution_count": 217,
   "metadata": {},
   "outputs": [],
   "source": [
    "# just need these two columns\n",
    "df = df[[\"ZCTA5CE10\", \"station_id\"]].copy()"
   ]
  },
  {
   "cell_type": "code",
   "execution_count": 218,
   "metadata": {},
   "outputs": [],
   "source": [
    "# count the number of zipcodes each station deals with\n",
    "df[\"zipcounts\"] = df.groupby('station_id', as_index=False)['station_id'].transform(lambda s: s.count())"
   ]
  },
  {
   "cell_type": "code",
   "execution_count": 219,
   "metadata": {},
   "outputs": [],
   "source": [
    "# load in the contribution amounts\n",
    "f = open(\"dollar_amounts_by_station_id.json\")\n",
    "jlist = []\n",
    "for line in f.readlines():\n",
    "    jlist.append(json.loads(line))"
   ]
  },
  {
   "cell_type": "code",
   "execution_count": 220,
   "metadata": {},
   "outputs": [],
   "source": [
    "amounts = pd.DataFrame(columns=[\"station_id\", \"amount\"])\n",
    "\n",
    "# grab the station id and sum over the contributions for each station\n",
    "ids = [j[\"stationId\"] for j in jlist]\n",
    "dollas = [np.sum(np.array([entry['amount'] for entry in item['amounts'] if entry[\"amount\"] < 100000])) for item in jlist]\n",
    "\n",
    "amounts[\"station_id\"] = ids\n",
    "amounts[\"amount\"] = np.around(dollas, decimals=2)"
   ]
  },
  {
   "cell_type": "code",
   "execution_count": 221,
   "metadata": {},
   "outputs": [
    {
     "data": {
      "text/plain": [
       "array([  2.11587065e+06,   9.84296570e+05,   5.24509847e+06, ...,\n",
       "         7.95348000e+05,   2.76314000e+03,   4.58550000e+04])"
      ]
     },
     "execution_count": 221,
     "metadata": {},
     "output_type": "execute_result"
    }
   ],
   "source": [
    "amounts.amount.values"
   ]
  },
  {
   "cell_type": "code",
   "execution_count": null,
   "metadata": {},
   "outputs": [],
   "source": []
  },
  {
   "cell_type": "code",
   "execution_count": 113,
   "metadata": {},
   "outputs": [
    {
     "name": "stdout",
     "output_type": "stream",
     "text": [
      "{'amounts': [{'url': 'https://publicfiles.fcc.gov/api/manager/download/1bd4c3a9-5933-2cbb-ca0d-e17b37e3f92d/5ad05b89-5ad5-4e2b-baf7-1bc7969f779a.pdf', 'amount': 4.710395454313986e+24, 'row': 57529}, {'url': 'https://publicfiles.fcc.gov/api/manager/download/1bd4c3a9-5933-2cbb-ca0d-e17b37e3f92d/6f3d9e44-b020-4cf8-b87b-98da87e0ddde.pdf', 'amount': 2610.0, 'row': 229034}, {'url': 'https://publicfiles.fcc.gov/api/manager/download/6a99506e-73a0-8180-5741-83a0a6a6fd23/fd1b7cfc-eb12-4cb7-abf1-f2f51c7e149b.pdf', 'amount': 500.0, 'row': 252542}, {'url': 'https://publicfiles.fcc.gov/api/manager/download/585d7519-5105-5cf2-88c0-a52e3d64f9ee/7cd901c2-004d-47e7-881a-ba5211f98f9f.pdf', 'amount': 480.0, 'row': 252547}, {'url': 'https://publicfiles.fcc.gov/api/manager/download/56cb2c63-4233-f45c-a02a-2bbc16ab2b96/6f3d9e44-b020-4cf8-b87b-98da87e0ddde.pdf', 'amount': 2610.0, 'row': 253223}, {'url': 'https://publicfiles.fcc.gov/api/manager/download/dabecfe0-8eae-a1bd-c22c-b1c07a267ce2/5ad05b89-5ad5-4e2b-baf7-1bc7969f779a.pdf', 'amount': 4.710395454313986e+24, 'row': 253227}, {'url': 'https://publicfiles.fcc.gov/api/manager/download/e3d863dd-f966-2cce-a6e2-819c53038316/fd1b7cfc-eb12-4cb7-abf1-f2f51c7e149b.pdf', 'amount': 500.0, 'row': 263237}, {'url': 'https://publicfiles.fcc.gov/api/manager/download/1bd4c3a9-5933-2cbb-ca0d-e17b37e3f92d/7cd901c2-004d-47e7-881a-ba5211f98f9f.pdf', 'amount': 480.0, 'row': 303952}], 'stationId': 6673}\n"
     ]
    },
    {
     "data": {
      "text/plain": [
       "[None]"
      ]
     },
     "execution_count": 113,
     "metadata": {},
     "output_type": "execute_result"
    }
   ],
   "source": [
    "amounts[\"station_id\"][amounts.amount == amounts.amount.max()]\n",
    "[print(j) for j in jlist if j[\"stationId\"] == 6673]"
   ]
  },
  {
   "cell_type": "code",
   "execution_count": 222,
   "metadata": {},
   "outputs": [
    {
     "data": {
      "text/plain": [
       "3148855104.25"
      ]
     },
     "execution_count": 222,
     "metadata": {},
     "output_type": "execute_result"
    }
   ],
   "source": [
    "totalmoney = amounts.amount.sum()\n",
    "totalmoney"
   ]
  },
  {
   "cell_type": "code",
   "execution_count": 223,
   "metadata": {},
   "outputs": [],
   "source": [
    "# merge the month's amounts to the station-zipcode dataframe\n",
    "df = df.merge(amounts, how=\"inner\")"
   ]
  },
  {
   "cell_type": "code",
   "execution_count": 224,
   "metadata": {},
   "outputs": [],
   "source": [
    "# use the zipcode multiplicity of the stations to find the average contribution per zipcode\n",
    "df[\"zip_amount\"] = df[\"amount\"].values / df[\"zipcounts\"].values"
   ]
  },
  {
   "cell_type": "code",
   "execution_count": 225,
   "metadata": {},
   "outputs": [
    {
     "data": {
      "text/plain": [
       "array([   1136.23,    1136.23,    1136.23, ...,  109955.22,  335389.67,\n",
       "        147434.  ])"
      ]
     },
     "execution_count": 225,
     "metadata": {},
     "output_type": "execute_result"
    }
   ],
   "source": [
    "df[\"zip_amount\"] = np.around(df[\"zip_amount\"].values, decimals=2)\n",
    "df.zip_amount.values"
   ]
  },
  {
   "cell_type": "code",
   "execution_count": 226,
   "metadata": {},
   "outputs": [],
   "source": [
    "# now summing the dollars over zipcodes (contributions from each station)\n",
    "df[\"zipsum\"] = df.groupby(\"ZCTA5CE10\", as_index=False)[\"zip_amount\"].transform(lambda s: s.sum())"
   ]
  },
  {
   "cell_type": "code",
   "execution_count": 227,
   "metadata": {},
   "outputs": [
    {
     "data": {
      "text/plain": [
       "array([   1784.17,  265707.17,   20425.99, ...,  119881.91,  335389.67,\n",
       "        166173.73])"
      ]
     },
     "execution_count": 227,
     "metadata": {},
     "output_type": "execute_result"
    }
   ],
   "source": [
    "df[\"zipsum\"] = np.around(df[\"zipsum\"].values, decimals=2)\n",
    "df.zipsum.values"
   ]
  },
  {
   "cell_type": "code",
   "execution_count": null,
   "metadata": {},
   "outputs": [],
   "source": []
  },
  {
   "cell_type": "code",
   "execution_count": 69,
   "metadata": {},
   "outputs": [
    {
     "data": {
      "text/plain": [
       "(429628, 6)"
      ]
     },
     "execution_count": 69,
     "metadata": {},
     "output_type": "execute_result"
    }
   ],
   "source": [
    "df.shape"
   ]
  },
  {
   "cell_type": "code",
   "execution_count": 228,
   "metadata": {},
   "outputs": [
    {
     "data": {
      "text/plain": [
       "(33636, 2)"
      ]
     },
     "execution_count": 228,
     "metadata": {},
     "output_type": "execute_result"
    }
   ],
   "source": [
    "# at this point I can get rid of duplicate zipcodes, since station info is irrelevant\n",
    "zipsumdf = df[[\"ZCTA5CE10\", \"zipsum\"]]\n",
    "zipsumdf = zipsumdf.drop_duplicates()\n",
    "zipsumdf.shape"
   ]
  },
  {
   "cell_type": "code",
   "execution_count": 229,
   "metadata": {},
   "outputs": [
    {
     "data": {
      "text/html": [
       "<div>\n",
       "<style scoped>\n",
       "    .dataframe tbody tr th:only-of-type {\n",
       "        vertical-align: middle;\n",
       "    }\n",
       "\n",
       "    .dataframe tbody tr th {\n",
       "        vertical-align: top;\n",
       "    }\n",
       "\n",
       "    .dataframe thead th {\n",
       "        text-align: right;\n",
       "    }\n",
       "</style>\n",
       "<table border=\"1\" class=\"dataframe\">\n",
       "  <thead>\n",
       "    <tr style=\"text-align: right;\">\n",
       "      <th></th>\n",
       "      <th>ZCTA5</th>\n",
       "      <th>STATE</th>\n",
       "      <th>COUNTY</th>\n",
       "      <th>GEOID</th>\n",
       "      <th>POPPT</th>\n",
       "      <th>HUPT</th>\n",
       "      <th>AREAPT</th>\n",
       "      <th>AREALANDPT</th>\n",
       "      <th>ZPOP</th>\n",
       "      <th>ZHU</th>\n",
       "      <th>...</th>\n",
       "      <th>COAREA</th>\n",
       "      <th>COAREALAND</th>\n",
       "      <th>ZPOPPCT</th>\n",
       "      <th>ZHUPCT</th>\n",
       "      <th>ZAREAPCT</th>\n",
       "      <th>ZAREALANDPCT</th>\n",
       "      <th>COPOPPCT</th>\n",
       "      <th>COHUPCT</th>\n",
       "      <th>COAREAPCT</th>\n",
       "      <th>COAREALANDPCT</th>\n",
       "    </tr>\n",
       "  </thead>\n",
       "  <tbody>\n",
       "    <tr>\n",
       "      <th>0</th>\n",
       "      <td>601</td>\n",
       "      <td>72</td>\n",
       "      <td>1</td>\n",
       "      <td>72001</td>\n",
       "      <td>18465</td>\n",
       "      <td>7695</td>\n",
       "      <td>165132671</td>\n",
       "      <td>164333375</td>\n",
       "      <td>18570</td>\n",
       "      <td>7744</td>\n",
       "      <td>...</td>\n",
       "      <td>173777444</td>\n",
       "      <td>172725651</td>\n",
       "      <td>99.43</td>\n",
       "      <td>99.37</td>\n",
       "      <td>98.61</td>\n",
       "      <td>98.60</td>\n",
       "      <td>94.77</td>\n",
       "      <td>94.71</td>\n",
       "      <td>95.03</td>\n",
       "      <td>95.14</td>\n",
       "    </tr>\n",
       "    <tr>\n",
       "      <th>1</th>\n",
       "      <td>601</td>\n",
       "      <td>72</td>\n",
       "      <td>141</td>\n",
       "      <td>72141</td>\n",
       "      <td>105</td>\n",
       "      <td>49</td>\n",
       "      <td>2326414</td>\n",
       "      <td>2326414</td>\n",
       "      <td>18570</td>\n",
       "      <td>7744</td>\n",
       "      <td>...</td>\n",
       "      <td>298027589</td>\n",
       "      <td>294039825</td>\n",
       "      <td>0.57</td>\n",
       "      <td>0.63</td>\n",
       "      <td>1.39</td>\n",
       "      <td>1.40</td>\n",
       "      <td>0.32</td>\n",
       "      <td>0.35</td>\n",
       "      <td>0.78</td>\n",
       "      <td>0.79</td>\n",
       "    </tr>\n",
       "    <tr>\n",
       "      <th>2</th>\n",
       "      <td>602</td>\n",
       "      <td>72</td>\n",
       "      <td>3</td>\n",
       "      <td>72003</td>\n",
       "      <td>41520</td>\n",
       "      <td>18073</td>\n",
       "      <td>83734431</td>\n",
       "      <td>79288158</td>\n",
       "      <td>41520</td>\n",
       "      <td>18073</td>\n",
       "      <td>...</td>\n",
       "      <td>117948080</td>\n",
       "      <td>79904246</td>\n",
       "      <td>100.00</td>\n",
       "      <td>100.00</td>\n",
       "      <td>100.00</td>\n",
       "      <td>100.00</td>\n",
       "      <td>98.95</td>\n",
       "      <td>98.99</td>\n",
       "      <td>70.99</td>\n",
       "      <td>99.23</td>\n",
       "    </tr>\n",
       "    <tr>\n",
       "      <th>3</th>\n",
       "      <td>603</td>\n",
       "      <td>72</td>\n",
       "      <td>5</td>\n",
       "      <td>72005</td>\n",
       "      <td>54689</td>\n",
       "      <td>25653</td>\n",
       "      <td>82063867</td>\n",
       "      <td>81880442</td>\n",
       "      <td>54689</td>\n",
       "      <td>25653</td>\n",
       "      <td>...</td>\n",
       "      <td>195741178</td>\n",
       "      <td>94608641</td>\n",
       "      <td>100.00</td>\n",
       "      <td>100.00</td>\n",
       "      <td>100.00</td>\n",
       "      <td>100.00</td>\n",
       "      <td>89.73</td>\n",
       "      <td>90.23</td>\n",
       "      <td>41.92</td>\n",
       "      <td>86.55</td>\n",
       "    </tr>\n",
       "    <tr>\n",
       "      <th>4</th>\n",
       "      <td>606</td>\n",
       "      <td>72</td>\n",
       "      <td>93</td>\n",
       "      <td>72093</td>\n",
       "      <td>6276</td>\n",
       "      <td>2740</td>\n",
       "      <td>94864349</td>\n",
       "      <td>94851862</td>\n",
       "      <td>6615</td>\n",
       "      <td>2877</td>\n",
       "      <td>...</td>\n",
       "      <td>94864349</td>\n",
       "      <td>94851862</td>\n",
       "      <td>94.88</td>\n",
       "      <td>95.24</td>\n",
       "      <td>86.56</td>\n",
       "      <td>86.56</td>\n",
       "      <td>100.00</td>\n",
       "      <td>100.00</td>\n",
       "      <td>100.00</td>\n",
       "      <td>100.00</td>\n",
       "    </tr>\n",
       "  </tbody>\n",
       "</table>\n",
       "<p>5 rows × 24 columns</p>\n",
       "</div>"
      ],
      "text/plain": [
       "   ZCTA5  STATE  COUNTY  GEOID  POPPT   HUPT     AREAPT  AREALANDPT   ZPOP  \\\n",
       "0    601     72       1  72001  18465   7695  165132671   164333375  18570   \n",
       "1    601     72     141  72141    105     49    2326414     2326414  18570   \n",
       "2    602     72       3  72003  41520  18073   83734431    79288158  41520   \n",
       "3    603     72       5  72005  54689  25653   82063867    81880442  54689   \n",
       "4    606     72      93  72093   6276   2740   94864349    94851862   6615   \n",
       "\n",
       "     ZHU      ...           COAREA  COAREALAND  ZPOPPCT  ZHUPCT  ZAREAPCT  \\\n",
       "0   7744      ...        173777444   172725651    99.43   99.37     98.61   \n",
       "1   7744      ...        298027589   294039825     0.57    0.63      1.39   \n",
       "2  18073      ...        117948080    79904246   100.00  100.00    100.00   \n",
       "3  25653      ...        195741178    94608641   100.00  100.00    100.00   \n",
       "4   2877      ...         94864349    94851862    94.88   95.24     86.56   \n",
       "\n",
       "   ZAREALANDPCT  COPOPPCT  COHUPCT  COAREAPCT  COAREALANDPCT  \n",
       "0         98.60     94.77    94.71      95.03          95.14  \n",
       "1          1.40      0.32     0.35       0.78           0.79  \n",
       "2        100.00     98.95    98.99      70.99          99.23  \n",
       "3        100.00     89.73    90.23      41.92          86.55  \n",
       "4         86.56    100.00   100.00     100.00         100.00  \n",
       "\n",
       "[5 rows x 24 columns]"
      ]
     },
     "execution_count": 229,
     "metadata": {},
     "output_type": "execute_result"
    }
   ],
   "source": [
    "\n",
    "zcdf = pd.read_csv(\"./zcta_county_rel_10.txt\")\n",
    "\n",
    "zcdf.head()"
   ]
  },
  {
   "cell_type": "code",
   "execution_count": 230,
   "metadata": {},
   "outputs": [],
   "source": [
    "zcdf[\"STATECOUNTY\"] = zcdf.STATE.apply(str).str.zfill(2) + zcdf.COUNTY.apply(str).str.zfill(3)"
   ]
  },
  {
   "cell_type": "code",
   "execution_count": 231,
   "metadata": {},
   "outputs": [
    {
     "data": {
      "text/plain": [
       "(33121, 26)"
      ]
     },
     "execution_count": 231,
     "metadata": {},
     "output_type": "execute_result"
    }
   ],
   "source": [
    "# find which counties have the max ZCTA area\n",
    "zcdf['ZCTA_max'] = zcdf.groupby(['ZCTA5'])['ZAREAPCT'].transform(max)\n",
    "\n",
    "# keep the zipcode-county pairs with max values\n",
    "zcdf = zcdf[zcdf['ZAREAPCT'] == zcdf['ZCTA_max']]\n",
    "\n",
    "zcdf.shape"
   ]
  },
  {
   "cell_type": "code",
   "execution_count": 232,
   "metadata": {},
   "outputs": [],
   "source": [
    "# keep the columns we want and rename zcta to have the same name as the original df\n",
    "zcdf = zcdf[[\"ZCTA5\", \"STATECOUNTY\"]].copy()\n",
    "zcdf.rename(columns={'ZCTA5': 'ZCTA5CE10'}, inplace=True)"
   ]
  },
  {
   "cell_type": "code",
   "execution_count": 233,
   "metadata": {},
   "outputs": [],
   "source": [
    "# now merge on the zipcode column\n",
    "zipsumdf = zipsumdf.merge(zcdf, how=\"inner\", on=\"ZCTA5CE10\", left_index=False, right_index=False)"
   ]
  },
  {
   "cell_type": "code",
   "execution_count": 234,
   "metadata": {},
   "outputs": [
    {
     "data": {
      "text/plain": [
       "Index(['ZCTA5CE10', 'zipsum', 'STATECOUNTY'], dtype='object')"
      ]
     },
     "execution_count": 234,
     "metadata": {},
     "output_type": "execute_result"
    }
   ],
   "source": [
    "zipsumdf.columns"
   ]
  },
  {
   "cell_type": "code",
   "execution_count": 235,
   "metadata": {},
   "outputs": [],
   "source": [
    "zipsumdf[\"county_sum\"] = zipsumdf.groupby(\"STATECOUNTY\")[\"zipsum\"].transform(lambda s: s.sum())"
   ]
  },
  {
   "cell_type": "code",
   "execution_count": 236,
   "metadata": {},
   "outputs": [
    {
     "data": {
      "text/plain": [
       "(31277, 4)"
      ]
     },
     "execution_count": 236,
     "metadata": {},
     "output_type": "execute_result"
    }
   ],
   "source": [
    "zipsumdf[\"county_sum\"] = np.around(zipsumdf[\"county_sum\"].values, decimals=2)\n",
    "zipsumdf.county_sum.describe()\n",
    "zipsumdf.shape"
   ]
  },
  {
   "cell_type": "code",
   "execution_count": 250,
   "metadata": {},
   "outputs": [],
   "source": [
    "# now we can just deal with counties\n",
    "countydf = zipsumdf[[\"STATECOUNTY\", \"county_sum\"]].copy()\n",
    "countydf = countydf.drop_duplicates()"
   ]
  },
  {
   "cell_type": "code",
   "execution_count": 251,
   "metadata": {},
   "outputs": [
    {
     "data": {
      "text/plain": [
       "(3150, 2)"
      ]
     },
     "execution_count": 251,
     "metadata": {},
     "output_type": "execute_result"
    }
   ],
   "source": [
    "countydf.shape"
   ]
  },
  {
   "cell_type": "code",
   "execution_count": 252,
   "metadata": {},
   "outputs": [
    {
     "data": {
      "text/plain": [
       "51780975.420000002"
      ]
     },
     "execution_count": 252,
     "metadata": {},
     "output_type": "execute_result"
    }
   ],
   "source": [
    "countydf[\"county_sum\"] = np.around(countydf[\"county_sum\"].values, decimals=2)\n",
    "countydf.county_sum.max()"
   ]
  },
  {
   "cell_type": "code",
   "execution_count": 154,
   "metadata": {},
   "outputs": [],
   "source": [
    "countydf.to_csv(\"county_money.tsv\", sep=\"\\t\", columns=[\"STATECOUNTY\", \"county_sum\"], index=False, float_format=\"%.2f\")"
   ]
  },
  {
   "cell_type": "code",
   "execution_count": 147,
   "metadata": {},
   "outputs": [
    {
     "data": {
      "text/plain": [
       "9.9299999999999997"
      ]
     },
     "execution_count": 147,
     "metadata": {},
     "output_type": "execute_result"
    }
   ],
   "source": [
    "np.min(countydf.county_sum)"
   ]
  },
  {
   "cell_type": "code",
   "execution_count": 148,
   "metadata": {},
   "outputs": [
    {
     "data": {
      "text/plain": [
       "103362305.15000001"
      ]
     },
     "execution_count": 148,
     "metadata": {},
     "output_type": "execute_result"
    }
   ],
   "source": [
    "countydf.county_sum.max()"
   ]
  },
  {
   "cell_type": "code",
   "execution_count": 83,
   "metadata": {},
   "outputs": [
    {
     "data": {
      "text/plain": [
       "2939087443.2271957"
      ]
     },
     "execution_count": 83,
     "metadata": {},
     "output_type": "execute_result"
    }
   ],
   "source": [
    "totalmoney = countydf.county_sum.sum()\n",
    "totalmoney"
   ]
  },
  {
   "cell_type": "code",
   "execution_count": 153,
   "metadata": {},
   "outputs": [],
   "source": [
    "zipsumdf.to_csv(\"zipcode_money.tsv\", sep=\"\\t\", columns=[\"ZCTA5CE10\", \"zipsum\"], index=False, float_format=\"%.2f\")"
   ]
  },
  {
   "cell_type": "code",
   "execution_count": 90,
   "metadata": {},
   "outputs": [
    {
     "data": {
      "text/plain": [
       "9.9347471451876022"
      ]
     },
     "execution_count": 90,
     "metadata": {},
     "output_type": "execute_result"
    }
   ],
   "source": [
    "countydf.county_sum.min()"
   ]
  },
  {
   "cell_type": "code",
   "execution_count": 159,
   "metadata": {},
   "outputs": [],
   "source": [
    "# add latitude and longitude to zip file\n",
    "latlong = pd.read_csv(\"latlong.dat\")\n",
    "\n",
    "# rename zip column again\n",
    "latlong.rename(columns={'ZIP': 'ZCTA5CE10'}, inplace=True)"
   ]
  },
  {
   "cell_type": "code",
   "execution_count": 160,
   "metadata": {},
   "outputs": [],
   "source": [
    "zipsumdf = zipsumdf.merge(latlong, how=\"inner\", on=\"ZCTA5CE10\", left_index=False, right_index=False)"
   ]
  },
  {
   "cell_type": "code",
   "execution_count": 161,
   "metadata": {},
   "outputs": [
    {
     "data": {
      "text/plain": [
       "(31277, 6)"
      ]
     },
     "execution_count": 161,
     "metadata": {},
     "output_type": "execute_result"
    }
   ],
   "source": [
    "zipsumdf.shape"
   ]
  },
  {
   "cell_type": "code",
   "execution_count": 162,
   "metadata": {},
   "outputs": [],
   "source": [
    "zipsumdf.to_csv(\"zipcode_money.tsv\", sep=\"\\t\", columns=[\"ZCTA5CE10\", \"LAT\", \"LNG\", \"zipsum\"], index=False, float_format=\"%.2f\")"
   ]
  },
  {
   "cell_type": "code",
   "execution_count": 163,
   "metadata": {},
   "outputs": [
    {
     "data": {
      "text/plain": [
       "103362305.15000001"
      ]
     },
     "execution_count": 163,
     "metadata": {},
     "output_type": "execute_result"
    }
   ],
   "source": [
    "countydf.county_sum.max()"
   ]
  },
  {
   "cell_type": "code",
   "execution_count": 253,
   "metadata": {},
   "outputs": [
    {
     "data": {
      "text/plain": [
       "(3150, 3)"
      ]
     },
     "execution_count": 253,
     "metadata": {},
     "output_type": "execute_result"
    }
   ],
   "source": [
    "countydf[\"logsum\"] = np.log10(countydf.county_sum)\n",
    "countydf.shape"
   ]
  },
  {
   "cell_type": "code",
   "execution_count": 242,
   "metadata": {},
   "outputs": [],
   "source": [
    "countydf.to_csv(\"county_log_money.tsv\", sep=\"\\t\", columns=[\"STATECOUNTY\", \"logsum\"], index=False, float_format=\"%.2f\")"
   ]
  },
  {
   "cell_type": "code",
   "execution_count": 281,
   "metadata": {},
   "outputs": [
    {
     "data": {
      "text/plain": [
       "(3219, 3)"
      ]
     },
     "execution_count": 281,
     "metadata": {},
     "output_type": "execute_result"
    }
   ],
   "source": [
    "unemployment = pd.read_csv(\"unemployment.tsv\", sep=\"\\t\")\n",
    "unemployment[\"STATECOUNTY\"] = unemployment.id.apply(str).str.zfill(5)\n",
    "unemployment.shape"
   ]
  },
  {
   "cell_type": "code",
   "execution_count": 267,
   "metadata": {},
   "outputs": [],
   "source": [
    "countydf = pd.merge(unemployment, countydf, how=\"left\", on=\"STATECOUNTY\")\n",
    "countydf = countydf.fillna(0)\n",
    "logsumarr = countydf.logsum.values\n",
    "logsumarr[np.where(logsumarr < 0)] = 0\n",
    "logsumarr = logsumarr + 1\n",
    "countydf[\"logsum\"] = logsumarr"
   ]
  },
  {
   "cell_type": "code",
   "execution_count": 269,
   "metadata": {},
   "outputs": [],
   "source": [
    "countydf.to_csv(\"county_log_money.tsv\", sep=\"\\t\", columns=[\"STATECOUNTY\", \"logsum\"], index=False, float_format=\"%.1f\")"
   ]
  },
  {
   "cell_type": "code",
   "execution_count": 272,
   "metadata": {},
   "outputs": [
    {
     "data": {
      "text/plain": [
       "True"
      ]
     },
     "execution_count": 272,
     "metadata": {},
     "output_type": "execute_result"
    }
   ],
   "source": [
    "(unemployment.STATECOUNTY.values == countydf.STATECOUNTY.values).all()"
   ]
  },
  {
   "cell_type": "code",
   "execution_count": 273,
   "metadata": {},
   "outputs": [
    {
     "data": {
      "text/plain": [
       "count    3219.000000\n",
       "mean        5.423330\n",
       "std         2.388199\n",
       "min         1.600000\n",
       "25%         4.000000\n",
       "50%         5.000000\n",
       "75%         6.200000\n",
       "max        26.400000\n",
       "Name: rate, dtype: float64"
      ]
     },
     "execution_count": 273,
     "metadata": {},
     "output_type": "execute_result"
    }
   ],
   "source": [
    "unemployment.rate.describe()"
   ]
  },
  {
   "cell_type": "code",
   "execution_count": 274,
   "metadata": {},
   "outputs": [
    {
     "data": {
      "text/plain": [
       "count    3219.000000\n",
       "mean        6.139114\n",
       "std         1.222982\n",
       "min         1.000000\n",
       "25%         5.673739\n",
       "50%         6.325073\n",
       "75%         6.892414\n",
       "max         8.714170\n",
       "Name: logsum, dtype: float64"
      ]
     },
     "execution_count": 274,
     "metadata": {},
     "output_type": "execute_result"
    }
   ],
   "source": [
    "countydf.logsum.describe()"
   ]
  },
  {
   "cell_type": "code",
   "execution_count": 282,
   "metadata": {},
   "outputs": [],
   "source": [
    "unemployment = unemployment[[\"STATECOUNTY\", \"rate\"]].copy()\n",
    "unemployment.rename(columns={'STATECOUNTY': 'id'}, inplace=True)"
   ]
  },
  {
   "cell_type": "code",
   "execution_count": 285,
   "metadata": {},
   "outputs": [],
   "source": [
    "unemployment.to_csv(\"unemployment_test.tsv\", sep=\"\\t\", columns=[\"id\", \"rate\"], index=False, float_format=\"%.1f\")"
   ]
  },
  {
   "cell_type": "code",
   "execution_count": null,
   "metadata": {},
   "outputs": [],
   "source": []
  }
 ],
 "metadata": {
  "kernelspec": {
   "display_name": "Python 3",
   "language": "python",
   "name": "python3"
  },
  "language_info": {
   "codemirror_mode": {
    "name": "ipython",
    "version": 3
   },
   "file_extension": ".py",
   "mimetype": "text/x-python",
   "name": "python",
   "nbconvert_exporter": "python",
   "pygments_lexer": "ipython3",
   "version": "3.6.3"
  }
 },
 "nbformat": 4,
 "nbformat_minor": 2
}
