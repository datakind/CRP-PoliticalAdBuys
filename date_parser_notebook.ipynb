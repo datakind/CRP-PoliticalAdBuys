{
 "metadata": {
  "name": "",
  "signature": "sha256:cb258b0c697ca2d626dde7a1217bfe64f013fb7cee425155be81ae0d9a4a9b8b"
 },
 "nbformat": 3,
 "nbformat_minor": 0,
 "worksheets": [
  {
   "cells": [
    {
     "cell_type": "code",
     "collapsed": false,
     "input": [
      "import re\n",
      "import pyodbc\n",
      "from collections import OrderedDict, Counter, defaultdict\n",
      "import numpy as np\n",
      "\n",
      "server = \"datakind.opensecrets.org\"\n",
      "database = \"fcc\"\n",
      "tablename = \"dk_data_documents\"\n",
      "username = \"datakind\"\n",
      "password = \"xxxxxx\"\n",
      "driver= \"{ODBC Driver 13 for SQL Server}\"\n",
      "\n",
      "cnxn = pyodbc.connect(\n",
      "    'DRIVER='+driver+';PORT=1433;SERVER='+server+';'\n",
      "    'PORT=1443;DATABASE='+database+';UID='+username+';PWD='+ password\n",
      ")\n",
      "cursor = cnxn.cursor()\n"
     ],
     "language": "python",
     "metadata": {},
     "outputs": [],
     "prompt_number": 1
    },
    {
     "cell_type": "code",
     "collapsed": false,
     "input": [
      "# Helper for running SQL\n",
      "def execute_sql(sql):\n",
      "    cursor.execute(sql)\n",
      "    rows = cursor.fetchall()\n",
      "    ex_row = rows[0]\n",
      "    keys = [entry[0] for entry in ex_row.cursor_description]\n",
      "    results = []\n",
      "    for count, row in enumerate(rows):\n",
      "        result = OrderedDict(zip(keys, row))\n",
      "        results.append(result)\n",
      "        if count % 100 == 0:\n",
      "            print(\"queried row {}\".format(count))\n",
      "    return results"
     ],
     "language": "python",
     "metadata": {},
     "outputs": [],
     "prompt_number": 2
    },
    {
     "cell_type": "code",
     "collapsed": false,
     "input": [
      "# Query that connects the document table with the table that has the manually annotated amounts.\n",
      "sql = \"\"\"\n",
      "select * from documents, fccamounts_standardized\n",
      "where fccamounts_standardized.docid = documents.id\n",
      "\"\"\""
     ],
     "language": "python",
     "metadata": {},
     "outputs": [],
     "prompt_number": 3
    },
    {
     "cell_type": "code",
     "collapsed": false,
     "input": [
      "results = execute_sql(sql)\n",
      "# How many rows:\n",
      "print(len(results))\n",
      "# The table keys\n",
      "print(results[0].keys())"
     ],
     "language": "python",
     "metadata": {},
     "outputs": [
      {
       "output_type": "stream",
       "stream": "stdout",
       "text": [
        "queried row 0\n",
        "100\n",
        "[u'id', u'station_id', u'url', u'name', u'content', u'local_name', u'status', u'type', u'invoice_in_name', u'invoice_in_content', u'uploaded_timestamp', u'downloaded_timestamp', u'meta_creation', u'meta_modification', u's3_name', u'processing', u'md5_hash', u'path', u'year', u'political_level', u'api_status', u'docid', u'startdate', u'enddate', u'totalbuy', u'mark', u'note', u'invoice']\n"
       ]
      }
     ],
     "prompt_number": 4
    },
    {
     "cell_type": "code",
     "collapsed": false,
     "input": [
      "result = results[0]\n",
      "print(result['startdate'])\n",
      "print(result['enddate'])"
     ],
     "language": "python",
     "metadata": {},
     "outputs": [
      {
       "output_type": "stream",
       "stream": "stdout",
       "text": [
        "2016-07-25 00:00:00\n",
        "2016-08-07 00:00:00\n"
       ]
      }
     ],
     "prompt_number": 5
    },
    {
     "cell_type": "code",
     "collapsed": false,
     "input": [
      "print result['url']"
     ],
     "language": "python",
     "metadata": {},
     "outputs": [
      {
       "output_type": "stream",
       "stream": "stdout",
       "text": [
        "https://publicfiles.fcc.gov/api/manager/download/82e2f18e-1083-28f5-af43-4223b28512b0/2d04d10b-3bb2-4402-b394-c3cb51dfbf00.pdf\n"
       ]
      }
     ],
     "prompt_number": 6
    },
    {
     "cell_type": "code",
     "collapsed": false,
     "input": [
      "import re\n",
      "import dateutil.parser as dparser\n",
      "from datetime import datetime\n",
      "def find_date_matches(text):\n",
      "    text = text.lower()\n",
      "    date_regex = '(\\d{2}[\\/ -]+(\\d{2}|january|jan|february|feb|march|mar|april|apr|may|june|jun|july|jul|august|aug|september|sep|october|oct|november|nov|december|dec)[\\/ -]+\\d{2,4})'\n",
      "    matches = re.finditer(date_regex, text)\n",
      "    out_dates = []\n",
      "    for date_match in matches:\n",
      "        try:\n",
      "            new_date = dparser.parse(date_match.group())\n",
      "            out_dates.append(new_date)\n",
      "        except Exception:\n",
      "            pass\n",
      "    \n",
      "    return out_dates"
     ],
     "language": "python",
     "metadata": {},
     "outputs": [],
     "prompt_number": 7
    },
    {
     "cell_type": "code",
     "collapsed": false,
     "input": [
      "date_examples = ['12/12/2017', '12-12-2017', '12 Jan 2017', '13 February 2017', '12 - 12 - 2017', '13 february 2017']\n",
      "for date_example in date_examples:\n",
      "    print date_example\n",
      "    print find_date_matches(date_example)\n",
      "    print '\\n'\n",
      "    #print [match.group() for match in matches]"
     ],
     "language": "python",
     "metadata": {},
     "outputs": [
      {
       "output_type": "stream",
       "stream": "stdout",
       "text": [
        "12/12/2017\n",
        "[datetime.datetime(2017, 12, 12, 0, 0)]\n",
        "\n",
        "\n",
        "12-12-2017\n",
        "[datetime.datetime(2017, 12, 12, 0, 0)]\n",
        "\n",
        "\n",
        "12 Jan 2017\n",
        "[datetime.datetime(2017, 1, 12, 0, 0)]\n",
        "\n",
        "\n",
        "13 February 2017\n",
        "[datetime.datetime(2017, 2, 13, 0, 0)]\n",
        "\n",
        "\n",
        "12 - 12 - 2017\n",
        "[datetime.datetime(2017, 12, 12, 0, 0)]\n",
        "\n",
        "\n",
        "13 february 2017\n",
        "[datetime.datetime(2017, 2, 13, 0, 0)]\n",
        "\n",
        "\n"
       ]
      }
     ],
     "prompt_number": 8
    },
    {
     "cell_type": "code",
     "collapsed": false,
     "input": [
      "def find_flight_context(text):\n",
      "    search_regex = r'(flight dates?|start dates?|flight|period)'\n",
      "    matches = list(re.finditer(search_regex, text))\n",
      "    return matches\n",
      "    "
     ],
     "language": "python",
     "metadata": {},
     "outputs": [],
     "prompt_number": 9
    },
    {
     "cell_type": "code",
     "collapsed": false,
     "input": [
      "test_string = 'this is the flight date 7/25/16 and these are the flight  7/25/16 - 8/25/16 and this is the start date and those are the start dates 4/12/13'\n",
      "[match.group() for match in find_flight_context(test_string)]"
     ],
     "language": "python",
     "metadata": {},
     "outputs": [
      {
       "metadata": {},
       "output_type": "pyout",
       "prompt_number": 10,
       "text": [
        "['flight date', 'flight', 'start date', 'start dates']"
       ]
      }
     ],
     "prompt_number": 10
    },
    {
     "cell_type": "code",
     "collapsed": false,
     "input": [
      "def find_flight_dates(text):\n",
      "    text.lower()\n",
      "    context_matches = find_flight_context(text)\n",
      "    # We start right after the match:\n",
      "\n",
      "    date_guesses = []\n",
      "    for match in context_matches:\n",
      "\n",
      "        start_index = match.end()\n",
      "        lookforward = 40\n",
      "        date_string = text[start_index: start_index + lookforward]\n",
      "        date_matches = find_date_matches(date_string)\n",
      "#         date_matches = list(datefinder.find_dates(date_string))\n",
      "\n",
      "        if date_matches:\n",
      "            date_guesses.append(date_matches[0])\n",
      "    \n",
      "    if date_guesses:\n",
      "        date_guesses = [datetime.combine(guess.date(), datetime.min.time()) for guess in date_guesses]\n",
      "        date_counter = Counter(date_guesses)\n",
      "        most_common_date = sorted(date_counter.items(), key=lambda x:[1], reverse=True)[0]\n",
      "        return most_common_date[0]\n",
      "    else:\n",
      "        return None"
     ],
     "language": "python",
     "metadata": {},
     "outputs": [],
     "prompt_number": 11
    },
    {
     "cell_type": "code",
     "collapsed": false,
     "input": [
      "correct_start_dates = [result['startdate'] for result in results]"
     ],
     "language": "python",
     "metadata": {},
     "outputs": [],
     "prompt_number": 12
    },
    {
     "cell_type": "code",
     "collapsed": false,
     "input": [
      "predicted_start_dates = [find_flight_dates(result['content'].lower()) for result in results]"
     ],
     "language": "python",
     "metadata": {},
     "outputs": [],
     "prompt_number": 13
    },
    {
     "cell_type": "code",
     "collapsed": false,
     "input": [
      "sum([item is not None for item in predicted_start_dates])"
     ],
     "language": "python",
     "metadata": {},
     "outputs": [
      {
       "metadata": {},
       "output_type": "pyout",
       "prompt_number": 14,
       "text": [
        "37"
       ]
      }
     ],
     "prompt_number": 14
    },
    {
     "cell_type": "code",
     "collapsed": false,
     "input": [
      "sum([pred_date == start_date for pred_date, start_date in zip(correct_start_dates, predicted_start_dates) if start_date is not None] )"
     ],
     "language": "python",
     "metadata": {},
     "outputs": [
      {
       "metadata": {},
       "output_type": "pyout",
       "prompt_number": 15,
       "text": [
        "22"
       ]
      }
     ],
     "prompt_number": 15
    },
    {
     "cell_type": "code",
     "collapsed": false,
     "input": [
      "count = 0\n",
      "for pred_date, start_date in zip(correct_start_dates, predicted_start_dates):\n",
      "    print count, pred_date, start_date\n",
      "    count +=1\n",
      "    "
     ],
     "language": "python",
     "metadata": {},
     "outputs": [
      {
       "output_type": "stream",
       "stream": "stdout",
       "text": [
        "0 2016-07-25 00:00:00 2016-07-25 00:00:00\n",
        "1 2016-08-01 00:00:00 2015-08-22 00:00:00\n",
        "2 None None\n",
        "3 2016-06-28 00:00:00 None\n",
        "4 2015-11-02 00:00:00 None\n",
        "5 2016-02-25 00:00:00 None\n",
        "6 2015-10-21 00:00:00 2015-10-21 00:00:00\n",
        "7 2016-07-25 00:00:00 2016-07-25 00:00:00\n",
        "8 2016-07-25 00:00:00 2016-07-25 00:00:00\n",
        "9 2016-10-10 00:00:00 2016-10-10 00:00:00\n",
        "10 2016-02-22 00:00:00 None\n",
        "11 2016-05-09 00:00:00 None\n",
        "12 2016-03-28 00:00:00 None\n",
        "13 2016-08-29 00:00:00 None\n",
        "14 2016-03-28 00:00:00 None\n",
        "15 2016-02-29 00:00:00 None\n",
        "16 2016-02-01 00:00:00 None\n",
        "17 2016-03-28 00:00:00 None\n",
        "18 None None\n",
        "19 None None\n",
        "20 None None\n",
        "21 2016-09-26 00:00:00 None\n",
        "22 None None\n",
        "23 None None\n",
        "24 2016-09-23 00:00:00 None\n",
        "25 2015-12-28 00:00:00 2015-12-28 00:00:00\n",
        "26 2016-02-01 00:00:00 None\n",
        "27 2016-09-26 00:00:00 2030-10-16 00:00:00\n",
        "28 2014-10-27 00:00:00 2014-10-27 00:00:00\n",
        "29 2014-09-16 00:00:00 None\n",
        "30 2015-09-22 00:00:00 2015-09-15 00:00:00\n",
        "31 2015-07-27 00:00:00 None\n",
        "32 2015-07-24 00:00:00 2015-07-26 00:00:00\n",
        "33 2014-09-29 00:00:00 2026-10-14 00:00:00\n",
        "34 2014-10-01 00:00:00 None\n",
        "35 2014-09-29 00:00:00 2014-10-26 00:00:00\n",
        "36 2014-09-29 00:00:00 2014-10-26 00:00:00\n",
        "37 2015-06-29 00:00:00 2015-07-26 00:00:00\n",
        "38 None None\n",
        "39 None None\n",
        "40 2016-09-26 00:00:00 None\n",
        "41 2016-06-27 00:00:00 None\n",
        "42 2014-09-01 00:00:00 2014-09-01 00:00:00\n",
        "43 2017-04-03 00:00:00 None\n",
        "44 2016-09-08 00:00:00 None\n",
        "45 2017-05-19 00:00:00 None\n",
        "46 2017-06-23 00:00:00 None\n",
        "47 2016-11-04 00:00:00 None\n",
        "48 None None\n",
        "49 None None\n",
        "50 None None\n",
        "51 2016-08-01 00:00:00 2016-08-02 00:00:00\n",
        "52 2016-07-26 00:00:00 2016-07-26 00:00:00\n",
        "53 2016-08-22 00:00:00 2016-08-22 00:00:00\n",
        "54 2016-08-22 00:00:00 2016-08-01 00:00:00\n",
        "55 2016-08-22 00:00:00 2016-08-01 00:00:00\n",
        "56 2016-08-22 00:00:00 None\n",
        "57 2016-08-22 00:00:00 None\n",
        "58 2016-08-22 00:00:00 None\n",
        "59 2016-08-24 00:00:00 2016-08-22 00:00:00\n",
        "60 2016-08-24 00:00:00 2016-08-22 00:00:00\n",
        "61 2016-08-23 00:00:00 2016-08-23 00:00:00\n",
        "62 2016-08-16 00:00:00 2030-08-16 00:00:00\n",
        "63 2016-08-25 00:00:00 2016-08-22 00:00:00\n",
        "64 2016-08-01 00:00:00 None\n",
        "65 2016-08-01 00:00:00 None\n",
        "66 2016-08-01 00:00:00 None\n",
        "67 2016-08-01 00:00:00 None\n",
        "68 2016-08-01 00:00:00 None\n",
        "69 2014-02-27 00:00:00 None\n",
        "70 2014-02-24 00:00:00 None\n",
        "71 2014-03-17 00:00:00 None\n",
        "72 2014-08-08 00:00:00 None\n",
        "73 None None\n",
        "74 2016-06-07 00:00:00 None\n",
        "75 2016-06-24 00:00:00 None\n",
        "76 2016-03-03 00:00:00 None\n",
        "77 2016-03-03 00:00:00 None\n",
        "78 2016-03-07 00:00:00 None\n",
        "79 2014-10-17 00:00:00 None\n",
        "80 2016-07-18 00:00:00 2016-07-18 00:00:00\n",
        "81 2016-02-22 00:00:00 2016-02-22 00:00:00\n",
        "82 2016-10-11 00:00:00 None\n",
        "83 2016-10-03 00:00:00 2016-10-03 00:00:00\n",
        "84 2016-10-03 00:00:00 2016-10-03 00:00:00\n",
        "85 2016-03-07 00:00:00 2016-03-07 00:00:00\n",
        "86 2016-10-24 00:00:00 2016-10-24 00:00:00\n",
        "87 2016-10-20 00:00:00 2016-10-20 00:00:00\n",
        "88 2016-10-31 00:00:00 None\n",
        "89 2016-11-03 00:00:00 2016-11-03 00:00:00\n",
        "90 2016-10-31 00:00:00 None\n",
        "91 2016-10-31 00:00:00 None\n",
        "92 2016-10-31 00:00:00 None\n",
        "93 2016-10-31 00:00:00 None\n",
        "94 2017-02-01 00:00:00 None\n",
        "95 2017-09-15 00:00:00 None\n",
        "96 2016-09-08 00:00:00 None\n",
        "97 2016-10-24 00:00:00 2016-10-24 00:00:00\n",
        "98 2016-08-08 00:00:00 2016-08-08 00:00:00\n",
        "99 2016-08-07 00:00:00 2016-08-07 00:00:00\n"
       ]
      }
     ],
     "prompt_number": 16
    },
    {
     "cell_type": "code",
     "collapsed": false,
     "input": [
      "result = results[11]"
     ],
     "language": "python",
     "metadata": {},
     "outputs": [],
     "prompt_number": 17
    },
    {
     "cell_type": "code",
     "collapsed": false,
     "input": [
      "result['startdate']"
     ],
     "language": "python",
     "metadata": {},
     "outputs": [
      {
       "metadata": {},
       "output_type": "pyout",
       "prompt_number": 18,
       "text": [
        "datetime.datetime(2016, 5, 9, 0, 0)"
       ]
      }
     ],
     "prompt_number": 18
    },
    {
     "cell_type": "code",
     "collapsed": false,
     "input": [
      "text= result['content'].lower()\n",
      "context_matches = find_flight_context(text)\n"
     ],
     "language": "python",
     "metadata": {},
     "outputs": [],
     "prompt_number": 19
    },
    {
     "cell_type": "code",
     "collapsed": false,
     "input": [
      "context_matches"
     ],
     "language": "python",
     "metadata": {},
     "outputs": [
      {
       "metadata": {},
       "output_type": "pyout",
       "prompt_number": 20,
       "text": [
        "[<_sre.SRE_Match at 0x10c3a5300>]"
       ]
      }
     ],
     "prompt_number": 20
    },
    {
     "cell_type": "code",
     "collapsed": false,
     "input": [
      "context_matches[0].group()"
     ],
     "language": "python",
     "metadata": {},
     "outputs": [
      {
       "metadata": {},
       "output_type": "pyout",
       "prompt_number": 21,
       "text": [
        "u'period'"
       ]
      }
     ],
     "prompt_number": 21
    },
    {
     "cell_type": "code",
     "collapsed": false,
     "input": [
      "context_matches = find_flight_context(text)\n",
      "match = context_matches[0]\n",
      "match.group()\n"
     ],
     "language": "python",
     "metadata": {},
     "outputs": [
      {
       "metadata": {},
       "output_type": "pyout",
       "prompt_number": 22,
       "text": [
        "u'period'"
       ]
      }
     ],
     "prompt_number": 22
    },
    {
     "cell_type": "code",
     "collapsed": false,
     "input": [
      "find_flight_dates(text)"
     ],
     "language": "python",
     "metadata": {},
     "outputs": [],
     "prompt_number": 23
    }
   ],
   "metadata": {}
  }
 ]
}